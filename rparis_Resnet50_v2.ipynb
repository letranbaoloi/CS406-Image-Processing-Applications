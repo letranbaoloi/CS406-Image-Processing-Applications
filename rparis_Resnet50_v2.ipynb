{
  "cells": [
    {
      "cell_type": "markdown",
      "metadata": {
        "id": "Tg8WrtTE-v6i"
      },
      "source": [
        "# Settings"
      ]
    },
    {
      "cell_type": "code",
      "execution_count": 5,
      "metadata": {
        "id": "7NfoelVorWCm"
      },
      "outputs": [],
      "source": [
        "use_colab = False"
      ]
    },
    {
      "cell_type": "code",
      "execution_count": 6,
      "metadata": {
        "colab": {
          "base_uri": "https://localhost:8080/"
        },
        "id": "cA1g2cr5rN1b",
        "outputId": "7f2922ff-cdd0-4433-c640-5f15724183b1"
      },
      "outputs": [
        {
          "name": "stdout",
          "output_type": "stream",
          "text": [
            "G:\\.shortcut-targets-by-id\\1AuC7haUXMGEsPVjb81jUHyIsW7dDnxJy\\Project\n"
          ]
        }
      ],
      "source": [
        "if use_colab:\n",
        "  from google.colab import drive\n",
        "  drive.mount('/content/drive')\n",
        "  %cd /content/drive/MyDrive/Image Processing/Project\n",
        "  !pip install faiss-gpu\n",
        "else:\n",
        "  %cd G:\\.shortcut-targets-by-id\\1AuC7haUXMGEsPVjb81jUHyIsW7dDnxJy\\Project"
      ]
    },
    {
      "cell_type": "code",
      "execution_count": 7,
      "metadata": {
        "id": "wMV-a33_o4rn"
      },
      "outputs": [],
      "source": [
        "import os\n",
        "from pathlib import Path\n",
        "import pickle\n",
        "from PIL import Image,ImageFilter\n",
        "from torchvision import transforms\n",
        "from torch.utils.data import Dataset, DataLoader, SequentialSampler\n",
        "import torch\n",
        "import torch.nn as nn\n",
        "import torchvision.models as models\n",
        "import numpy as np\n",
        "import pandas as pd\n",
        "import bisect"
      ]
    },
    {
      "cell_type": "code",
      "execution_count": 8,
      "metadata": {
        "colab": {
          "base_uri": "https://localhost:8080/"
        },
        "id": "1oWzjfU6AooM",
        "outputId": "54d567d7-e0ff-4bc8-d847-dfe624ae940f"
      },
      "outputs": [
        {
          "data": {
            "text/plain": [
              "device(type='cuda')"
            ]
          },
          "execution_count": 8,
          "metadata": {},
          "output_type": "execute_result"
        }
      ],
      "source": [
        "device = torch.device(\"cuda\" if torch.cuda.is_available() else \"cpu\")\n",
        "\n",
        "device"
      ]
    },
    {
      "cell_type": "code",
      "execution_count": 9,
      "metadata": {
        "id": "p0j7-tSs5-Ar"
      },
      "outputs": [],
      "source": [
        "import cv2 as cv\n",
        "import matplotlib.pyplot as plt\n",
        "\n",
        "def show_images(img_list): # img = list(tuple(image, title))\n",
        "  num_img = len(img_list)\n",
        "  figsize = num_img * 10\n",
        "\n",
        "  plt.figure(figsize = (figsize, figsize))\n",
        "\n",
        "  for i in range(num_img):\n",
        "    img, title = img_list[i]\n",
        "\n",
        "    plt.subplot(1,num_img,i+1)\n",
        "    plt.title(title)\n",
        "    # img = cv.cvtColor(img, cv.COLOR_BGR2RGB)\n",
        "    cmap = None if len(img.shape) == 3 else 'gray'\n",
        "    img = plt.imshow(img, cmap,interpolation = 'bicubic')"
      ]
    },
    {
      "cell_type": "code",
      "execution_count": 10,
      "metadata": {
        "id": "mi_fG08jkBmx"
      },
      "outputs": [],
      "source": [
        "def img_name_to_path(file_name, ds_loc = 'paris'):\n",
        "  landmark = file_name.split('_')[1]\n",
        "  return data_path/ds_loc/landmark/f'{file_name}.jpg'"
      ]
    },
    {
      "cell_type": "code",
      "execution_count": 11,
      "metadata": {
        "id": "03MWRHmxSyKV"
      },
      "outputs": [],
      "source": [
        "transform = transforms.Compose(\n",
        "        [\n",
        "            transforms.Resize((224, 224), interpolation = transforms.InterpolationMode.BILINEAR),\n",
        "            transforms.ToTensor(),\n",
        "        ])"
      ]
    },
    {
      "cell_type": "markdown",
      "metadata": {
        "id": "Uzl2O7Ozn85G"
      },
      "source": [
        "# Dataset\n",
        "\n",
        "roxford5k:\n",
        "\n",
        "https://www.robots.ox.ac.uk/~vgg/data/oxbuildings/oxbuild_images-v1.tgz\n",
        "\n",
        "rparis6k:\n",
        "\n",
        "https://www.robots.ox.ac.uk/~vgg/data/parisbuildings/paris_1-v1.tgz\n",
        "\n",
        "https://www.robots.ox.ac.uk/~vgg/data/parisbuildings/paris_2-v1.tgz\n",
        "\n",
        "## Annotation\n",
        "\n",
        "http://cmp.felk.cvut.cz/revisitop/data/datasets/roxford5k/gnd_roxford5k.pkl\n",
        "\n",
        "http://cmp.felk.cvut.cz/revisitop/data/datasets/rparis6k/gnd_rparis6k.pkl\n"
      ]
    },
    {
      "cell_type": "code",
      "execution_count": 12,
      "metadata": {
        "colab": {
          "base_uri": "https://localhost:8080/"
        },
        "id": "U6sG7GK6qbIP",
        "outputId": "6b982dea-88e1-4211-b76a-589c9e1c09d2"
      },
      "outputs": [
        {
          "data": {
            "text/plain": [
              "WindowsPath('roxford-rparis')"
            ]
          },
          "execution_count": 12,
          "metadata": {},
          "output_type": "execute_result"
        }
      ],
      "source": [
        "data_path = Path('roxford-rparis')\n",
        "\n",
        "data_path"
      ]
    },
    {
      "cell_type": "code",
      "execution_count": 13,
      "metadata": {
        "colab": {
          "base_uri": "https://localhost:8080/"
        },
        "id": "uHG1d0N84aj6",
        "outputId": "1f311286-421c-43fa-dff4-062c1ef16e0d"
      },
      "outputs": [
        {
          "data": {
            "text/plain": [
              "dict_keys(['gnd', 'imlist', 'qimlist'])"
            ]
          },
          "execution_count": 13,
          "metadata": {},
          "output_type": "execute_result"
        }
      ],
      "source": [
        "with open(data_path/'gnd_rparis6k.pkl', 'rb') as f:\n",
        "  par_gnd = pickle.load(f)\n",
        "\n",
        "par_gnd.keys()"
      ]
    },
    {
      "cell_type": "code",
      "execution_count": 14,
      "metadata": {
        "id": "fG4wDnYJ6qc1"
      },
      "outputs": [],
      "source": [
        "class RParisDataset(Dataset):\n",
        "    def __init__(self, image_root, transform = None):\n",
        "        self.image_root = Path(image_root)\n",
        "\n",
        "        self.transform = transform\n",
        "\n",
        "        with open(data_path/'gnd_rparis6k.pkl', 'rb') as f:\n",
        "          self.gnd = pickle.load(f)\n",
        "\n",
        "    def __len__(self):\n",
        "        return len(self.gnd['imlist'])\n",
        "\n",
        "    def __getitem__(self, idx):\n",
        "        img_name = self.gnd['imlist'][idx]\n",
        "\n",
        "        img_path = img_name_to_path(img_name)\n",
        "\n",
        "        _img = Image.open(img_path)\n",
        "        _img = _img.convert(\"RGB\")\n",
        "\n",
        "        if self.transform:\n",
        "          _img = self.transform(_img)\n",
        "\n",
        "        return _img, str(img_name)"
      ]
    },
    {
      "cell_type": "code",
      "execution_count": 15,
      "metadata": {
        "id": "qQ5IjlXOZ7GJ"
      },
      "outputs": [],
      "source": [
        "def part_id_to_idx(partition_idx):\n",
        "  return partition_idx // 4"
      ]
    },
    {
      "cell_type": "code",
      "execution_count": 16,
      "metadata": {
        "id": "ifB5txSaGq3G"
      },
      "outputs": [],
      "source": [
        "class RParisCroppedDataset(Dataset):\n",
        "    def __init__(self, image_root, transform = None):\n",
        "        self.image_root = Path(image_root)\n",
        "\n",
        "        self.transform = transform\n",
        "\n",
        "        with open(data_path/'gnd_rparis6k.pkl', 'rb') as f:\n",
        "          self.gnd = pickle.load(f)\n",
        "\n",
        "    def __len__(self):\n",
        "        return len(self.gnd['imlist']) * 4\n",
        "\n",
        "    def __getitem__(self, idx):\n",
        "        original_idx = idx // 4\n",
        "        partition_idx = idx % 4\n",
        "        img_name = self.gnd['imlist'][original_idx] + f'_{partition_idx}'\n",
        "\n",
        "        img_path = img_name_to_path(img_name, ds_loc='rparis-crop')\n",
        "\n",
        "        _img = Image.open(img_path)\n",
        "        _img = _img.convert(\"RGB\")\n",
        "\n",
        "        if self.transform:\n",
        "          _img = self.transform(_img)\n",
        "\n",
        "        return _img, str(img_name)"
      ]
    },
    {
      "cell_type": "code",
      "execution_count": 17,
      "metadata": {
        "id": "3cEGp6O3GM2A"
      },
      "outputs": [],
      "source": [
        "def get_query(idx, gnd=par_gnd, transform_query=None):\n",
        "    file_name = gnd[\"qimlist\"][idx]\n",
        "    img_path = img_name_to_path(file_name)\n",
        "    bbx = gnd[\"gnd\"][idx][\"bbx\"]\n",
        "    _img = Image.open(img_path)\n",
        "\n",
        "    if transform_query:\n",
        "        _img = transform_query(_img)\n",
        "\n",
        "    _img = _img.crop(tuple(bbx))\n",
        "    _img = _img.convert(\"RGB\")\n",
        "\n",
        "    label = {\"easy\": gnd[\"gnd\"][idx][\"easy\"], \"hard\": gnd[\"gnd\"][idx][\"hard\"]}\n",
        "    return _img, label"
      ]
    },
    {
      "cell_type": "code",
      "execution_count": 18,
      "metadata": {
        "colab": {
          "base_uri": "https://localhost:8080/"
        },
        "id": "_uDctd5K7hCd",
        "outputId": "4099bc75-f493-40c2-d564-408549b77e6b"
      },
      "outputs": [
        {
          "data": {
            "text/plain": [
              "(6322, 99)"
            ]
          },
          "execution_count": 18,
          "metadata": {},
          "output_type": "execute_result"
        }
      ],
      "source": [
        "par_ds = RParisDataset(data_path/'paris', transform)\n",
        "sampler = SequentialSampler(par_ds)\n",
        "par_dl = DataLoader(par_ds, batch_size=64, shuffle=False, sampler=sampler)\n",
        "\n",
        "len(par_ds), len(par_dl)"
      ]
    },
    {
      "cell_type": "markdown",
      "metadata": {
        "id": "_30ZuhwQBzps"
      },
      "source": [
        "# Databaset settings"
      ]
    },
    {
      "cell_type": "code",
      "execution_count": 19,
      "metadata": {
        "id": "il00SXQwB8Md"
      },
      "outputs": [],
      "source": [
        "import faiss\n",
        "\n",
        "def create_index(shape):\n",
        "    index = faiss.IndexFlatL2(shape) # features.shape[1]\n",
        "    return index"
      ]
    },
    {
      "cell_type": "markdown",
      "metadata": {
        "id": "m4t2aRbE-30Z"
      },
      "source": [
        "# Model"
      ]
    },
    {
      "cell_type": "code",
      "execution_count": 20,
      "metadata": {
        "id": "Fv57byJ5-4mK"
      },
      "outputs": [],
      "source": [
        "class FeatureExtractor(torch.nn.Module):\n",
        "    def __init__(self, device):\n",
        "        super().__init__()\n",
        "        self.model = models.resnet50(weights='IMAGENET1K_V2')\n",
        "        # Get the layers of the model\n",
        "        self.modules = list(self.model.children())[:-1]\n",
        "        self.model = nn.Sequential(*self.modules)\n",
        "        self.model = self.model.eval()\n",
        "        self.model = self.model.to(device)\n",
        "        self.shape = 2048 # the length of the feature vector\n",
        "\n",
        "    def extract_features(self, batch):\n",
        "        transform = transforms.Compose([transforms.Normalize(mean=[0.485, 0.456, 0.406],\n",
        "                                                            std=[0.229, 0.224, 0.225])])\n",
        "        batch = transform(batch)\n",
        "\n",
        "        # Pass the image through the Resnet50 model and get the feature maps of the input image\n",
        "        with torch.no_grad():\n",
        "            feature = self.model(batch)\n",
        "            feature = torch.flatten(feature, start_dim=1)\n",
        "\n",
        "        # Return features to numpy array\n",
        "        return feature.cpu().detach().numpy()"
      ]
    },
    {
      "cell_type": "code",
      "execution_count": 21,
      "metadata": {
        "id": "Asc46sue0EVU"
      },
      "outputs": [],
      "source": [
        "extractor = FeatureExtractor(device)\n",
        "\n",
        "feature_root = './roxford-rparis/embedding'\n",
        "\n",
        "index = faiss.read_index(f'{feature_root}/rparis_resnet50.index.bin')"
      ]
    },
    {
      "cell_type": "code",
      "execution_count": 22,
      "metadata": {
        "id": "6CvtVWcfB2Ow"
      },
      "outputs": [],
      "source": [
        "# # Extract features\n",
        "# for images, image_paths in par_dl:\n",
        "#     images = images.to(device)\n",
        "#     features = extractor.extract_features(images)\n",
        "#     index.add(features)\n",
        "\n",
        "# # Save features\n",
        "# faiss.write_index(index, f'{feature_root}/rparis_resnet50.index.bin')"
      ]
    },
    {
      "cell_type": "code",
      "execution_count": 23,
      "metadata": {
        "id": "iYQ2A1T-QUQn"
      },
      "outputs": [],
      "source": [
        "def retrieve(query_img, k, index=index):\n",
        "    img = transform(query_img)\n",
        "    img = img.unsqueeze(0).to(device)\n",
        "\n",
        "    feat = extractor.extract_features(img)\n",
        "    distance, indices = index.search(feat, k)\n",
        "\n",
        "    return indices[0].tolist(), distance[0].tolist()"
      ]
    },
    {
      "cell_type": "markdown",
      "metadata": {
        "id": "8AFC8-w1_HMO"
      },
      "source": [
        "# Augment database"
      ]
    },
    {
      "cell_type": "code",
      "execution_count": 24,
      "metadata": {
        "colab": {
          "base_uri": "https://localhost:8080/"
        },
        "id": "FuflaCwHTM_3",
        "outputId": "0dcbdd8d-a848-47bd-c3b8-3cfd33115e4d"
      },
      "outputs": [
        {
          "data": {
            "text/plain": [
              "(25288, 396)"
            ]
          },
          "execution_count": 24,
          "metadata": {},
          "output_type": "execute_result"
        }
      ],
      "source": [
        "par_cropped_ds = RParisCroppedDataset(data_path/'rparis-crop', transform=transform)\n",
        "sampler = SequentialSampler(par_cropped_ds)\n",
        "par_cropped_dl = DataLoader(par_cropped_ds, batch_size=64, shuffle=False, sampler=sampler)\n",
        "\n",
        "len(par_cropped_ds), len(par_cropped_dl)"
      ]
    },
    {
      "cell_type": "code",
      "execution_count": 25,
      "metadata": {
        "colab": {
          "base_uri": "https://localhost:8080/"
        },
        "id": "dzaXVRy3Y9cT",
        "outputId": "5cb255f9-be93-4e19-949f-def685656f13"
      },
      "outputs": [
        {
          "data": {
            "text/plain": [
              "<faiss.swigfaiss.IndexFlat; proxy of <Swig Object of type 'faiss::IndexFlat *' at 0x0000029E8EB47FC0> >"
            ]
          },
          "execution_count": 25,
          "metadata": {},
          "output_type": "execute_result"
        }
      ],
      "source": [
        "# read features\n",
        "aug_index = faiss.read_index(f'{feature_root}/cropped_rparis_resnet50.index.bin')\n",
        "\n",
        "aug_index"
      ]
    },
    {
      "cell_type": "code",
      "execution_count": 26,
      "metadata": {
        "id": "e_Jkmmt5UT8F"
      },
      "outputs": [],
      "source": [
        "# from tqdm import tqdm\n",
        "\n",
        "# with tqdm(total=len(par_cropped_dl)) as pbar:\n",
        "#     for images, paths in par_cropped_dl:\n",
        "#       images = images.to(device)\n",
        "#       features = extractor.extract_features(images)\n",
        "#       aug_index.add(features)\n",
        "#       pbar.update(1)\n",
        "\n",
        "# # Save features\n",
        "# faiss.write_index(aug_index, f'{feature_root}/cropped_rparis_resnet50.index.bin')"
      ]
    },
    {
      "cell_type": "code",
      "execution_count": 27,
      "metadata": {
        "id": "Vr6QpFdfdIrR"
      },
      "outputs": [],
      "source": [
        "view_ds = RParisDataset(data_path/'rparis', transform=None)"
      ]
    },
    {
      "cell_type": "code",
      "execution_count": 28,
      "metadata": {
        "id": "xUCcE8AVrGoM"
      },
      "outputs": [],
      "source": [
        "def extend_answer_on_augment_ds(query_im, k, src_indices, src_dst, aug_index):\n",
        "    aug_indices, aug_dst = retrieve(query_im, k, index=aug_index)\n",
        "    for idx, aug_ans in enumerate(aug_indices):\n",
        "        original_idx = part_id_to_idx(aug_ans)\n",
        "\n",
        "        if original_idx not in src_indices:\n",
        "            ins_pos = bisect.bisect_left(src_dst, aug_dst[idx])\n",
        "            src_indices.insert(ins_pos, original_idx)\n",
        "            src_dst.insert(ins_pos, aug_dst[idx])\n",
        "\n",
        "    return src_indices"
      ]
    },
    {
      "cell_type": "markdown",
      "metadata": {
        "id": "Idbnd0QPOQRO"
      },
      "source": [
        "# Evaluation\n"
      ]
    },
    {
      "cell_type": "markdown",
      "metadata": {
        "id": "FHOBDW8DwxIz"
      },
      "source": [
        "## Define metrics"
      ]
    },
    {
      "cell_type": "code",
      "execution_count": 29,
      "metadata": {
        "id": "A-4GkkkTORuW"
      },
      "outputs": [],
      "source": [
        "def AP(pred, ground_truth):\n",
        "    n_relevance = 0\n",
        "    n_retrieved = 0\n",
        "    sum_precision = 0.0\n",
        "\n",
        "    for item in pred:\n",
        "        n_retrieved += 1\n",
        "        if item in ground_truth:\n",
        "          n_relevance += 1\n",
        "          sum_precision += (n_relevance/n_retrieved)\n",
        "\n",
        "    if n_relevance == 0:\n",
        "      return 0\n",
        "\n",
        "    return sum_precision / n_relevance"
      ]
    },
    {
      "cell_type": "code",
      "execution_count": 30,
      "metadata": {
        "id": "RHEptTh_vQNN"
      },
      "outputs": [],
      "source": [
        "def expand_answer(src_pred, src_dst, ext_pred, ext_dst):\n",
        "    for idx, p in enumerate(ext_pred):\n",
        "        if p not in src_pred:\n",
        "            ins_pos = bisect.bisect_left(src_dst, ext_dst[idx])\n",
        "            src_pred.insert(ins_pos, p)\n",
        "            src_dst.insert(ins_pos, ext_dst[idx])"
      ]
    },
    {
      "cell_type": "code",
      "execution_count": 31,
      "metadata": {
        "colab": {
          "base_uri": "https://localhost:8080/"
        },
        "id": "q4aL_kDXrGoM",
        "outputId": "ae96c268-6d38-4b1c-9bdb-8c0597f50a7c"
      },
      "outputs": [
        {
          "data": {
            "text/plain": [
              "636"
            ]
          },
          "execution_count": 31,
          "metadata": {},
          "output_type": "execute_result"
        }
      ],
      "source": [
        "max_r = 0\n",
        "\n",
        "for gnd in par_gnd[\"gnd\"]:\n",
        "    max_r = max(max_r, len(gnd[\"easy\"]) + len(gnd[\"hard\"]))\n",
        "\n",
        "max_r"
      ]
    },
    {
      "cell_type": "code",
      "execution_count": 32,
      "metadata": {
        "id": "2ZV8I08jCKdo"
      },
      "outputs": [],
      "source": [
        "import time\n",
        "\n",
        "class Scoring:\n",
        "    def __init__(self):\n",
        "        self.qlen = len(par_gnd[\"qimlist\"])\n",
        "\n",
        "        # retrieve and store answers\n",
        "        self.pred, self.dst, self.gnd_truth = self.retrieve(max_r)\n",
        "\n",
        "\n",
        "    def retrieve(self, k, query_transform=None):\n",
        "        pred_list, dst_list, gnd_list = [], [], []\n",
        "        inf_time = []\n",
        "        for idx in range(self.qlen):\n",
        "            src_img, label = get_query(idx=idx, transform_query=query_transform)\n",
        "            gnd_truth = label[\"easy\"] + label[\"hard\"]\n",
        "\n",
        "            start = time.time()\n",
        "            pred, dst = retrieve(src_img, k)\n",
        "            end = time.time()\n",
        "            inf_time.append(end-start)\n",
        "            pred_list.append(pred)\n",
        "            dst_list.append(dst)\n",
        "            gnd_list.append(gnd_truth)\n",
        "\n",
        "        self.mean_inference_time = sum(inf_time) / len(inf_time)\n",
        "        return pred_list, dst_list, gnd_list\n",
        "\n",
        "    def map(self, k, pred_list, result_path=None):\n",
        "        sum_ap = 0\n",
        "        ap_cache = []\n",
        "        for i in range(self.qlen):\n",
        "            pred = pred_list[i][:k]\n",
        "            gnd = self.gnd_truth[i]\n",
        "\n",
        "            ap = AP(pred, gnd)\n",
        "            sum_ap += ap\n",
        "            ap_cache.append((ap, i))\n",
        "\n",
        "            if result_path:\n",
        "                with open(result_path / f\"{i}.txt\", \"w\") as f:\n",
        "                    f.write(\"\\t\".join([str(e) for e in pred]))\n",
        "\n",
        "        return (sum_ap / self.qlen), ap_cache\n",
        "\n",
        "    def precision_at_k(self, k, pred_list):\n",
        "        precision_cache = []\n",
        "        for i in range(self.qlen):\n",
        "            pred = pred_list[i][:k]\n",
        "            gnd_truth = self.gnd_truth[i]\n",
        "\n",
        "            count_relevance = 0\n",
        "\n",
        "            for ret in pred:\n",
        "                if ret in gnd_truth:\n",
        "                    count_relevance += 1\n",
        "            precision_cache.append(count_relevance / k)\n",
        "\n",
        "        return sum(precision_cache) / len(precision_cache)\n",
        "\n",
        "    def precision_at_r(self, pred_list):\n",
        "        precision_cache = []\n",
        "\n",
        "        for i in range(self.qlen):\n",
        "            gnd_len = len(self.gnd_truth[i])\n",
        "            pred = pred_list[i][:gnd_len]\n",
        "            gnd_truth = self.gnd_truth[i]\n",
        "\n",
        "            count_relevance = 0\n",
        "\n",
        "            for ret in pred:\n",
        "                if ret in gnd_truth:\n",
        "                    count_relevance += 1\n",
        "            precision_cache.append(count_relevance / gnd_len)\n",
        "\n",
        "        return sum(precision_cache) / len(precision_cache)\n",
        "\n",
        "    def expand_result(self, k, transform_query=None, iter=1):\n",
        "        pred = self.pred.copy()\n",
        "        dst = self.dst.copy()\n",
        "\n",
        "        for i in range(self.qlen):\n",
        "            if transform_query is not None:\n",
        "                for _ in range(iter):\n",
        "                    ext_img, _ = get_query(idx=i, transform_query=transform_query)\n",
        "                    ext_pred, ext_dst = retrieve(ext_img, k=k)\n",
        "\n",
        "                    expand_answer(pred[i], dst[i], ext_pred, ext_dst)\n",
        "\n",
        "        return pred\n",
        "\n",
        "    def eval(self, k, pred=None, result_path=None):\n",
        "        if pred is None:\n",
        "            pred = self.pred\n",
        "\n",
        "        map, ap_cache = self.map(k, pred, result_path)\n",
        "        precision = self.precision_at_k(k, pred)\n",
        "        r_precision = self.precision_at_r(pred)\n",
        "\n",
        "        print(\n",
        "            f\"mAP@{k}: {map:.4f}\\nPrecision@{k}: {precision:.4f}\\nmean R-Precision: {r_precision:.4f}\"\n",
        "        )\n",
        "\n",
        "        return precision, r_precision, map, ap_cache"
      ]
    },
    {
      "cell_type": "markdown",
      "metadata": {
        "id": "7M5jt2UbIaom"
      },
      "source": [
        "## Evaluate by metrics"
      ]
    },
    {
      "cell_type": "code",
      "execution_count": 33,
      "metadata": {
        "colab": {
          "base_uri": "https://localhost:8080/"
        },
        "id": "S-gPOEB1rGoN",
        "outputId": "fc392fa3-9a85-4cce-e432-1c2f87307243"
      },
      "outputs": [
        {
          "data": {
            "text/plain": [
              "<__main__.Scoring at 0x29f4fb49750>"
            ]
          },
          "execution_count": 33,
          "metadata": {},
          "output_type": "execute_result"
        }
      ],
      "source": [
        "scoring = Scoring()\n",
        "\n",
        "scoring"
      ]
    },
    {
      "cell_type": "code",
      "execution_count": 34,
      "metadata": {
        "id": "gw3qGz7tWq7m"
      },
      "outputs": [],
      "source": [
        "# settings\n",
        "ops = []\n",
        "k = 50\n",
        "\n",
        "metrics = {\n",
        "    f\"mAP@{k}\": [],\n",
        "    f\"mean Precision@{k}\": [],\n",
        "    \"mean R-Precision\": [],\n",
        "}\n",
        "\n",
        "result_root = data_path / \"eval\""
      ]
    },
    {
      "cell_type": "code",
      "execution_count": 35,
      "metadata": {
        "colab": {
          "base_uri": "https://localhost:8080/"
        },
        "id": "x7HjMnfKrGoN",
        "outputId": "3ee1b0a8-0e0f-4149-c2a2-dec5bd6f8879"
      },
      "outputs": [
        {
          "name": "stdout",
          "output_type": "stream",
          "text": [
            "Scorebroad - ORIGINAL IMAGE\n",
            "mAP@50: 0.9058\n",
            "Precision@50: 0.8271\n",
            "mean R-Precision: 0.4857\n"
          ]
        }
      ],
      "source": [
        "ops.append(\"ORIGINAL\")\n",
        "\n",
        "print(\"Scorebroad - ORIGINAL IMAGE\")\n",
        "pres, r_pres, map, ap_cache = scoring.eval(k, result_path=result_root)\n",
        "\n",
        "metrics[f\"mAP@{k}\"].append(map)\n",
        "metrics[f\"mean Precision@{k}\"].append(pres)\n",
        "metrics[\"mean R-Precision\"].append(r_pres)"
      ]
    },
    {
      "cell_type": "code",
      "execution_count": 36,
      "metadata": {
        "colab": {
          "base_uri": "https://localhost:8080/"
        },
        "id": "SeOVjYfEnVWR",
        "outputId": "1395e917-5804-4048-daaa-12029715e066"
      },
      "outputs": [
        {
          "data": {
            "text/plain": [
              "[(0.15925925925925927, 69),\n",
              " (0.42543918998768326, 68),\n",
              " (0.5108299545936837, 67),\n",
              " (0.5503940503940504, 56),\n",
              " (0.5508110538790876, 59),\n",
              " (0.6260388039523188, 63),\n",
              " (0.6501066339528639, 62),\n",
              " (0.6810341315541201, 50),\n",
              " (0.732718134372583, 52),\n",
              " (0.7394110670997655, 55)]"
            ]
          },
          "execution_count": 36,
          "metadata": {},
          "output_type": "execute_result"
        }
      ],
      "source": [
        "ap_cache.sort(key=lambda tup:tup[0])\n",
        "\n",
        "ap_cache[:10]"
      ]
    },
    {
      "cell_type": "markdown",
      "metadata": {
        "id": "WWtuoRioIlg_"
      },
      "source": [
        "# Query expansion"
      ]
    },
    {
      "cell_type": "markdown",
      "metadata": {
        "id": "542DwLcSfoAI"
      },
      "source": [
        "## Closing, opening"
      ]
    },
    {
      "cell_type": "code",
      "execution_count": 37,
      "metadata": {
        "id": "L5Vsqz4oInio"
      },
      "outputs": [],
      "source": [
        "# Image opening\n",
        "kernel = np.ones((5,5), np.uint8)\n",
        "\n",
        "def image_opening(img):\n",
        "  img = np.array(img)\n",
        "  convert_img = cv.cvtColor(img, cv.COLOR_RGB2BGR)\n",
        "  img_opening = cv.morphologyEx(convert_img, cv.MORPH_OPEN, kernel)\n",
        "  img_pil = Image.fromarray(cv.cvtColor(img_opening, cv.COLOR_BGR2RGB))\n",
        "  return img_pil\n",
        "\n",
        "def image_closing(img):\n",
        "  img = np.array(img)\n",
        "  convert_img = cv.cvtColor(img, cv.COLOR_RGB2BGR)\n",
        "  img_opening = cv.morphologyEx(convert_img, cv.MORPH_CLOSE, kernel)\n",
        "  img_pil = Image.fromarray(cv.cvtColor(img_opening, cv.COLOR_BGR2RGB))\n",
        "  return img_pil"
      ]
    },
    {
      "cell_type": "code",
      "execution_count": 38,
      "metadata": {
        "colab": {
          "base_uri": "https://localhost:8080/"
        },
        "id": "Q6Np-lSFLGhU",
        "outputId": "255e983b-4bd2-46b0-d544-3cd2c01fc981"
      },
      "outputs": [
        {
          "name": "stdout",
          "output_type": "stream",
          "text": [
            "Scorebroad - OPENING OPS\n",
            "mAP@50: 0.9058\n",
            "Precision@50: 0.8271\n",
            "mean R-Precision: 0.4857\n"
          ]
        }
      ],
      "source": [
        "print(\"Scorebroad - OPENING OPS\")\n",
        "\n",
        "ops.append(\"OPENNING\")\n",
        "\n",
        "pred = scoring.expand_result(k, transform_query=image_opening)\n",
        "\n",
        "pres_k, r_pres, map, ap_cache = scoring.eval(k, pred=pred)\n",
        "\n",
        "metrics[f\"mAP@{k}\"].append(map)\n",
        "metrics[f\"mean Precision@{k}\"].append(pres_k)\n",
        "metrics[\"mean R-Precision\"].append(r_pres)"
      ]
    },
    {
      "cell_type": "code",
      "execution_count": 39,
      "metadata": {
        "colab": {
          "base_uri": "https://localhost:8080/"
        },
        "id": "8uLjE5BVLdY1",
        "outputId": "34988fb6-5971-4282-ff7e-38adb0915b36"
      },
      "outputs": [
        {
          "name": "stdout",
          "output_type": "stream",
          "text": [
            "Scorebroad - CLOSING OPS\n",
            "mAP@50: 0.9058\n",
            "Precision@50: 0.8266\n",
            "mean R-Precision: 0.4856\n"
          ]
        }
      ],
      "source": [
        "print(\"Scorebroad - CLOSING OPS\")\n",
        "\n",
        "ops.append(\"CLOSING\")\n",
        "\n",
        "pred = scoring.expand_result(k, transform_query=image_closing)\n",
        "\n",
        "pres_k, r_pres, map, ap_cache = scoring.eval(k, pred=pred)\n",
        "\n",
        "metrics[f\"mAP@{k}\"].append(map)\n",
        "metrics[f\"mean Precision@{k}\"].append(pres_k)\n",
        "metrics[\"mean R-Precision\"].append(r_pres)"
      ]
    },
    {
      "cell_type": "markdown",
      "metadata": {
        "id": "rt5qfoEsfrfH"
      },
      "source": [
        "## Random crop"
      ]
    },
    {
      "cell_type": "code",
      "execution_count": 40,
      "metadata": {
        "id": "cBEf_hi2PHEZ"
      },
      "outputs": [],
      "source": [
        "def random_crop(image):\n",
        "    image = np.array(image)\n",
        "    convert_img = cv.cvtColor(image, cv.COLOR_RGB2BGR)\n",
        "\n",
        "    crop_width = convert_img.shape[1]//2\n",
        "    crop_height = convert_img.shape[0]//2\n",
        "\n",
        "    max_x = convert_img.shape[1] - crop_width\n",
        "    max_y = convert_img.shape[0] - crop_height\n",
        "\n",
        "    x = np.random.randint(0, max_x)\n",
        "    y = np.random.randint(0, max_y)\n",
        "\n",
        "    crop = convert_img[y: y + crop_height, x: x + crop_width]\n",
        "\n",
        "    img_pil = Image.fromarray(cv.cvtColor(crop, cv.COLOR_BGR2RGB))\n",
        "\n",
        "    return img_pil"
      ]
    },
    {
      "cell_type": "code",
      "execution_count": 41,
      "metadata": {
        "colab": {
          "base_uri": "https://localhost:8080/"
        },
        "id": "c0BZMq6KgSwP",
        "outputId": "e7eb28a9-9378-4e67-ae79-7f07c7027a1a"
      },
      "outputs": [
        {
          "name": "stdout",
          "output_type": "stream",
          "text": [
            "Scorebroad - RANDOM CROP\n",
            "mAP@50: 0.9096\n",
            "Precision@50: 0.8249\n",
            "mean R-Precision: 0.4848\n"
          ]
        }
      ],
      "source": [
        "print('Scorebroad - RANDOM CROP')\n",
        "\n",
        "ops.append('RANDOM CROP@5')\n",
        "\n",
        "pred = scoring.expand_result(k, transform_query=random_crop, iter=5)\n",
        "\n",
        "pres_k, r_pres, map, ap_cache = scoring.eval(k, pred=pred)\n",
        "\n",
        "metrics[f\"mAP@{k}\"].append(map)\n",
        "metrics[f\"mean Precision@{k}\"].append(pres_k)\n",
        "metrics['mean R-Precision'].append(r_pres)"
      ]
    },
    {
      "cell_type": "markdown",
      "metadata": {
        "id": "Yp2f7fbPDfKJ"
      },
      "source": [
        "## Random rotation"
      ]
    },
    {
      "cell_type": "code",
      "execution_count": 42,
      "metadata": {
        "id": "bFSY8N4_BkLr"
      },
      "outputs": [],
      "source": [
        "def random_rotate(image):\n",
        "  angle = np.random.randint(low=-30, high=31)\n",
        "  img_pil = image.rotate(angle)\n",
        "  return img_pil"
      ]
    },
    {
      "cell_type": "code",
      "execution_count": 43,
      "metadata": {
        "colab": {
          "base_uri": "https://localhost:8080/"
        },
        "id": "500TYKifFw2x",
        "outputId": "27cbf3eb-5a2f-43ed-ac23-5455c8e5defb"
      },
      "outputs": [
        {
          "name": "stdout",
          "output_type": "stream",
          "text": [
            "Scorebroad - RANDOM ROTATE\n",
            "mAP@50: 0.9095\n",
            "Precision@50: 0.8240\n",
            "mean R-Precision: 0.4846\n"
          ]
        }
      ],
      "source": [
        "print(\"Scorebroad - RANDOM ROTATE\")\n",
        "ops.append(\"RANDOM ROTATE@5\")\n",
        "\n",
        "pred = scoring.expand_result(k, transform_query=random_rotate, iter=5)\n",
        "\n",
        "pres_k, r_pres, map, ap_cache = scoring.eval(k, pred=pred)\n",
        "\n",
        "metrics[f\"mAP@{k}\"].append(map)\n",
        "metrics[f\"mean Precision@{k}\"].append(pres_k)\n",
        "metrics[\"mean R-Precision\"].append(r_pres)"
      ]
    },
    {
      "cell_type": "markdown",
      "metadata": {
        "id": "k0KXxMkiI9nZ"
      },
      "source": [
        "## Horizontal flip"
      ]
    },
    {
      "cell_type": "code",
      "execution_count": 44,
      "metadata": {
        "id": "nJmU9G8kIM95"
      },
      "outputs": [],
      "source": [
        "def hor_flip(image):\n",
        "\n",
        "    img_pil = image.transpose(Image.FLIP_LEFT_RIGHT)\n",
        "\n",
        "    return img_pil"
      ]
    },
    {
      "cell_type": "code",
      "execution_count": 45,
      "metadata": {
        "colab": {
          "base_uri": "https://localhost:8080/"
        },
        "id": "jPnSAM5QJN_V",
        "outputId": "4395a40e-9ad9-4d4a-dae1-b26fd3656ae6"
      },
      "outputs": [
        {
          "name": "stdout",
          "output_type": "stream",
          "text": [
            "Scorebroad - HORIZONTAL FLIP\n"
          ]
        },
        {
          "name": "stderr",
          "output_type": "stream",
          "text": [
            "C:\\Users\\Hoang\\AppData\\Local\\Temp\\ipykernel_23980\\3246664538.py:3: DeprecationWarning: FLIP_LEFT_RIGHT is deprecated and will be removed in Pillow 10 (2023-07-01). Use Transpose.FLIP_LEFT_RIGHT instead.\n",
            "  img_pil = image.transpose(Image.FLIP_LEFT_RIGHT)\n"
          ]
        },
        {
          "name": "stdout",
          "output_type": "stream",
          "text": [
            "mAP@50: 0.9032\n",
            "Precision@50: 0.8237\n",
            "mean R-Precision: 0.4851\n"
          ]
        }
      ],
      "source": [
        "print(\"Scorebroad - HORIZONTAL FLIP\")\n",
        "ops.append(\"HORIZONTAL FLIP\")\n",
        "\n",
        "pred = scoring.expand_result(k, transform_query=hor_flip)\n",
        "\n",
        "pres_k, r_pres, map, ap_cache = scoring.eval(k, pred=pred)\n",
        "\n",
        "metrics[f\"mAP@{k}\"].append(map)\n",
        "metrics[f\"mean Precision@{k}\"].append(pres_k)\n",
        "metrics[\"mean R-Precision\"].append(r_pres)"
      ]
    },
    {
      "cell_type": "markdown",
      "metadata": {
        "id": "pS0wzhOVJ8YF"
      },
      "source": [
        "## Blur, Sharpen and Smooth"
      ]
    },
    {
      "cell_type": "code",
      "execution_count": 46,
      "metadata": {
        "id": "fH81qQ6EKYK_"
      },
      "outputs": [],
      "source": [
        "def blur(image):\n",
        "  return image.filter(ImageFilter.BLUR)"
      ]
    },
    {
      "cell_type": "code",
      "execution_count": 47,
      "metadata": {
        "colab": {
          "base_uri": "https://localhost:8080/"
        },
        "id": "mc9d0GUeLUBp",
        "outputId": "f0c63f5a-4c54-40e5-c8f5-dc1c795850a3"
      },
      "outputs": [
        {
          "name": "stdout",
          "output_type": "stream",
          "text": [
            "Scorebroad - BLUR\n",
            "mAP@50: 0.9032\n",
            "Precision@50: 0.8237\n",
            "mean R-Precision: 0.4851\n"
          ]
        }
      ],
      "source": [
        "print(\"Scorebroad - BLUR\")\n",
        "\n",
        "ops.append(\"BLUR\")\n",
        "\n",
        "pred = scoring.expand_result(k, transform_query=blur)\n",
        "\n",
        "pres_k, r_pres, map, ap_cache = scoring.eval(k, pred=pred)\n",
        "\n",
        "metrics[f\"mAP@{k}\"].append(map)\n",
        "metrics[f\"mean Precision@{k}\"].append(pres_k)\n",
        "metrics[\"mean R-Precision\"].append(r_pres)"
      ]
    },
    {
      "cell_type": "code",
      "execution_count": 48,
      "metadata": {
        "id": "BFDSpy52KoHs"
      },
      "outputs": [],
      "source": [
        "def sharpen(image):\n",
        "  return image.filter(ImageFilter.SHARPEN)"
      ]
    },
    {
      "cell_type": "code",
      "execution_count": 49,
      "metadata": {
        "colab": {
          "base_uri": "https://localhost:8080/"
        },
        "id": "wloYzl5JLasr",
        "outputId": "0ce53ecc-4f7c-46a9-82e2-e1cef30b7ebd"
      },
      "outputs": [
        {
          "name": "stdout",
          "output_type": "stream",
          "text": [
            "Scorebroad - SHARPEN\n",
            "mAP@50: 0.9032\n",
            "Precision@50: 0.8237\n",
            "mean R-Precision: 0.4851\n"
          ]
        }
      ],
      "source": [
        "print(\"Scorebroad - SHARPEN\")\n",
        "ops.append(\"SHARPEN\")\n",
        "\n",
        "pred = scoring.expand_result(k, transform_query=sharpen)\n",
        "\n",
        "pres_k, r_pres, map, ap_cache = scoring.eval(k, pred=pred)\n",
        "metrics[f\"mAP@{k}\"].append(map)\n",
        "metrics[f\"mean Precision@{k}\"].append(pres_k)\n",
        "metrics[\"mean R-Precision\"].append(r_pres)"
      ]
    },
    {
      "cell_type": "code",
      "execution_count": 50,
      "metadata": {
        "id": "rZA2Ygu_LJZ3"
      },
      "outputs": [],
      "source": [
        "def smooth(image):\n",
        "  return image.filter(ImageFilter.SMOOTH)"
      ]
    },
    {
      "cell_type": "code",
      "execution_count": 51,
      "metadata": {
        "colab": {
          "base_uri": "https://localhost:8080/"
        },
        "id": "ws5AP3uXLqYc",
        "outputId": "db057663-d594-4421-876d-6fed8e69a568"
      },
      "outputs": [
        {
          "name": "stdout",
          "output_type": "stream",
          "text": [
            "Scorebroad - SMOOTH\n",
            "mAP@50: 0.9032\n",
            "Precision@50: 0.8237\n",
            "mean R-Precision: 0.4851\n"
          ]
        }
      ],
      "source": [
        "print(\"Scorebroad - SMOOTH\")\n",
        "\n",
        "ops.append(\"SMOOTH\")\n",
        "\n",
        "pred = scoring.expand_result(k, transform_query=smooth)\n",
        "\n",
        "pres_k, r_pres, map, ap_cache = scoring.eval(k, pred=pred)\n",
        "\n",
        "metrics[f\"mAP@{k}\"].append(map)\n",
        "metrics[f\"mean Precision@{k}\"].append(pres_k)\n",
        "metrics[\"mean R-Precision\"].append(r_pres)"
      ]
    },
    {
      "cell_type": "markdown",
      "metadata": {
        "id": "RHXsEZ1kL50E"
      },
      "source": [
        "## Edge"
      ]
    },
    {
      "cell_type": "code",
      "execution_count": 52,
      "metadata": {
        "id": "JD216a_FL1P1"
      },
      "outputs": [],
      "source": [
        "def edge(img):\n",
        "  img_gray = img.convert(\"L\")\n",
        "  img_gray = img_gray.filter(ImageFilter.SMOOTH)\n",
        "  edges = img_gray.filter(ImageFilter.FIND_EDGES)\n",
        "  return edges"
      ]
    },
    {
      "cell_type": "code",
      "execution_count": 53,
      "metadata": {
        "colab": {
          "base_uri": "https://localhost:8080/"
        },
        "id": "PgwixXhEMdHm",
        "outputId": "5130da38-0152-42b0-f63b-10234866d3da"
      },
      "outputs": [
        {
          "name": "stdout",
          "output_type": "stream",
          "text": [
            "Scorebroad - FIND EDGE\n",
            "mAP@50: 0.9014\n",
            "Precision@50: 0.8203\n",
            "mean R-Precision: 0.4839\n"
          ]
        }
      ],
      "source": [
        "print(\"Scorebroad - FIND EDGE\")\n",
        "ops.append(\"FIND EDGE\")\n",
        "\n",
        "pred = scoring.expand_result(k, transform_query=edge)\n",
        "\n",
        "pres_k, r_pres, map, ap_cache = scoring.eval(k, pred=pred)\n",
        "\n",
        "metrics[f\"mAP@{k}\"].append(map)\n",
        "metrics[f\"mean Precision@{k}\"].append(pres_k)\n",
        "metrics[\"mean R-Precision\"].append(r_pres)"
      ]
    },
    {
      "cell_type": "markdown",
      "metadata": {
        "id": "I03eCJLGBjRF"
      },
      "source": [
        "# Augmentation"
      ]
    },
    {
      "cell_type": "code",
      "execution_count": 54,
      "metadata": {
        "id": "CmvAaLzurGod"
      },
      "outputs": [],
      "source": [
        "def recall_by_categories(pred_list):\n",
        "    recall_orl = []\n",
        "    recall_hard = []\n",
        "\n",
        "    for idx in range(len(pred_list)):\n",
        "        pred = pred_list[idx]\n",
        "        gnd = par_gnd[\"gnd\"][idx]\n",
        "        total_easy = len(gnd[\"easy\"])\n",
        "        total_hard = len(gnd[\"hard\"])\n",
        "        total = total_easy + total_hard\n",
        "\n",
        "        recall_orl.append(\n",
        "            len(set(pred[:total]).intersection(set(gnd[\"easy\"] + gnd['hard']))) / total\n",
        "        )\n",
        "        recall_hard.append(\n",
        "            len(set(pred[:total]).intersection(set(gnd[\"hard\"]))) / total_hard\n",
        "        )\n",
        "\n",
        "    recall_orl = np.array(recall_orl)\n",
        "    recall_hard = np.array(recall_hard)\n",
        "\n",
        "    return recall_orl.mean(), recall_hard.mean()"
      ]
    },
    {
      "cell_type": "code",
      "execution_count": 55,
      "metadata": {
        "id": "xYbaIDTvza0v"
      },
      "outputs": [],
      "source": [
        "def compute_mrr(pred_list, gnd_list):\n",
        "  mrr_list = []\n",
        "\n",
        "  for idx in range(len(pred_list)):\n",
        "    gnd = gnd_list[idx]\n",
        "    gnd_size = len(gnd)\n",
        "    pred = pred_list[idx][:gnd_size]\n",
        "\n",
        "    for ans_idx, ans in enumerate(pred):\n",
        "      if ans in gnd:\n",
        "        mrr_list.append(1/(ans_idx+1))\n",
        "        break\n",
        "\n",
        "  mrr_list = np.array(mrr_list)\n",
        "\n",
        "  return mrr_list.sum() / len(pred_list)"
      ]
    },
    {
      "cell_type": "code",
      "execution_count": 56,
      "metadata": {
        "id": "4IYWmzHjrGod"
      },
      "outputs": [],
      "source": [
        "# recall on original database\n",
        "src_rc, src_rc_hard = recall_by_categories(scoring.pred)"
      ]
    },
    {
      "cell_type": "code",
      "execution_count": 57,
      "metadata": {
        "colab": {
          "base_uri": "https://localhost:8080/"
        },
        "id": "jp2x3Nb6rGod",
        "outputId": "d3b22d46-010c-4cad-80e9-f4dfcb9cecc3"
      },
      "outputs": [
        {
          "name": "stdout",
          "output_type": "stream",
          "text": [
            "Scorebroad - AUGMENTED IMAGE\n",
            "mAP@50: 0.9054\n",
            "Precision@50: 0.8369\n",
            "mean R-Precision: 0.5212\n"
          ]
        }
      ],
      "source": [
        "ext_pred = scoring.pred.copy()\n",
        "ext_dst = scoring.dst.copy()\n",
        "\n",
        "for idx in range(len(ext_pred)):\n",
        "    image, _ = get_query(idx=idx)\n",
        "    ext_dst[idx] = extend_answer_on_augment_ds(\n",
        "        query_im=image,\n",
        "        k=k * 4,\n",
        "        src_indices=ext_pred[idx],\n",
        "        src_dst=ext_dst[idx],\n",
        "        aug_index=aug_index,\n",
        "    )\n",
        "\n",
        "print(\"Scorebroad - AUGMENTED IMAGE\")\n",
        "ops.append(\"AUGMENTED DB\")\n",
        "\n",
        "pres_k, r_pres, map, ap_cache = scoring.eval(k, pred=ext_pred)\n",
        "\n",
        "metrics[f\"mAP@{k}\"].append(map)\n",
        "metrics[f\"mean Precision@{k}\"].append(pres_k)\n",
        "metrics[\"mean R-Precision\"].append(r_pres)"
      ]
    },
    {
      "cell_type": "code",
      "execution_count": 58,
      "metadata": {
        "id": "ltecfuM2rGod"
      },
      "outputs": [],
      "source": [
        "# recall on augmented database\n",
        "ext_rc, ext_rc_hard = recall_by_categories(ext_pred)"
      ]
    },
    {
      "cell_type": "code",
      "execution_count": 59,
      "metadata": {
        "id": "4V7Cf5DR00t1"
      },
      "outputs": [],
      "source": [
        "hard_gnd = []\n",
        "agg_gnd = []\n",
        "\n",
        "for label in par_gnd['gnd']:\n",
        "  hard_gnd.append(label['hard'])\n",
        "  agg_gnd.append(label['easy'] + label['hard'])"
      ]
    },
    {
      "cell_type": "code",
      "execution_count": 60,
      "metadata": {
        "id": "EDewPGoQ2Dvv"
      },
      "outputs": [],
      "source": [
        "hard_ext_mrr = compute_mrr(ext_pred, hard_gnd)\n",
        "ext_mrr = compute_mrr(ext_pred, agg_gnd)\n",
        "\n",
        "hard_mrr = compute_mrr(scoring.pred, hard_gnd)\n",
        "mrr = compute_mrr(scoring.pred, agg_gnd)"
      ]
    },
    {
      "cell_type": "markdown",
      "metadata": {
        "id": "rZ0P6GSqu1Wu"
      },
      "source": [
        "# Summary"
      ]
    },
    {
      "cell_type": "code",
      "execution_count": 61,
      "metadata": {
        "colab": {
          "base_uri": "https://localhost:8080/",
          "height": 198
        },
        "id": "oRadnChYZGiG",
        "outputId": "7dba28e5-0bed-47e3-f807-9342d2ca4898"
      },
      "outputs": [
        {
          "data": {
            "text/html": [
              "<div>\n",
              "<style scoped>\n",
              "    .dataframe tbody tr th:only-of-type {\n",
              "        vertical-align: middle;\n",
              "    }\n",
              "\n",
              "    .dataframe tbody tr th {\n",
              "        vertical-align: top;\n",
              "    }\n",
              "\n",
              "    .dataframe thead th {\n",
              "        text-align: right;\n",
              "    }\n",
              "</style>\n",
              "<table border=\"1\" class=\"dataframe\">\n",
              "  <thead>\n",
              "    <tr style=\"text-align: right;\">\n",
              "      <th></th>\n",
              "      <th>ORIGINAL</th>\n",
              "      <th>OPENNING</th>\n",
              "      <th>CLOSING</th>\n",
              "      <th>RANDOM_CROP@5</th>\n",
              "      <th>RANDOM_ROTATE@5</th>\n",
              "      <th>HORIZONTAL_FLIP</th>\n",
              "      <th>BLUR</th>\n",
              "      <th>SHARPEN</th>\n",
              "      <th>SMOOTH</th>\n",
              "      <th>FIND_EDGE</th>\n",
              "      <th>AUGMENTED_DB</th>\n",
              "    </tr>\n",
              "  </thead>\n",
              "  <tbody>\n",
              "    <tr>\n",
              "      <th>mAP@50</th>\n",
              "      <td>0.9058</td>\n",
              "      <td>0.9058</td>\n",
              "      <td>0.9058</td>\n",
              "      <td>0.9096</td>\n",
              "      <td>0.9095</td>\n",
              "      <td>0.9032</td>\n",
              "      <td>0.9032</td>\n",
              "      <td>0.9032</td>\n",
              "      <td>0.9032</td>\n",
              "      <td>0.9014</td>\n",
              "      <td>0.9054</td>\n",
              "    </tr>\n",
              "    <tr>\n",
              "      <th>mean Precision@50</th>\n",
              "      <td>0.8271</td>\n",
              "      <td>0.8271</td>\n",
              "      <td>0.8266</td>\n",
              "      <td>0.8249</td>\n",
              "      <td>0.8240</td>\n",
              "      <td>0.8237</td>\n",
              "      <td>0.8237</td>\n",
              "      <td>0.8237</td>\n",
              "      <td>0.8237</td>\n",
              "      <td>0.8203</td>\n",
              "      <td>0.8369</td>\n",
              "    </tr>\n",
              "    <tr>\n",
              "      <th>mean R-Precision</th>\n",
              "      <td>0.4857</td>\n",
              "      <td>0.4857</td>\n",
              "      <td>0.4856</td>\n",
              "      <td>0.4848</td>\n",
              "      <td>0.4846</td>\n",
              "      <td>0.4851</td>\n",
              "      <td>0.4851</td>\n",
              "      <td>0.4851</td>\n",
              "      <td>0.4851</td>\n",
              "      <td>0.4839</td>\n",
              "      <td>0.5212</td>\n",
              "    </tr>\n",
              "  </tbody>\n",
              "</table>\n",
              "</div>"
            ],
            "text/plain": [
              "                   ORIGINAL  OPENNING  CLOSING  RANDOM_CROP@5  \\\n",
              "mAP@50               0.9058    0.9058   0.9058         0.9096   \n",
              "mean Precision@50    0.8271    0.8271   0.8266         0.8249   \n",
              "mean R-Precision     0.4857    0.4857   0.4856         0.4848   \n",
              "\n",
              "                   RANDOM_ROTATE@5  HORIZONTAL_FLIP    BLUR  SHARPEN  SMOOTH  \\\n",
              "mAP@50                      0.9095           0.9032  0.9032   0.9032  0.9032   \n",
              "mean Precision@50           0.8240           0.8237  0.8237   0.8237  0.8237   \n",
              "mean R-Precision            0.4846           0.4851  0.4851   0.4851  0.4851   \n",
              "\n",
              "                   FIND_EDGE  AUGMENTED_DB  \n",
              "mAP@50                0.9014        0.9054  \n",
              "mean Precision@50     0.8203        0.8369  \n",
              "mean R-Precision      0.4839        0.5212  "
            ]
          },
          "execution_count": 61,
          "metadata": {},
          "output_type": "execute_result"
        }
      ],
      "source": [
        "rows = []\n",
        "ops = [e.replace(' ', '_') for e in ops]\n",
        "\n",
        "for key in metrics:\n",
        "  rows.append([round(m, 4) for m in metrics[key]])\n",
        "\n",
        "df = pd.DataFrame(rows, columns=ops)\n",
        "\n",
        "index = pd.Index(list(metrics.keys()))\n",
        "\n",
        "df.set_index(index)"
      ]
    },
    {
      "cell_type": "code",
      "execution_count": 62,
      "metadata": {
        "colab": {
          "base_uri": "https://localhost:8080/",
          "height": 174
        },
        "id": "RDpmaKuOrGod",
        "outputId": "cdbc1f66-28b7-43dc-cf70-5d683b0a2279"
      },
      "outputs": [
        {
          "data": {
            "text/html": [
              "<div>\n",
              "<style scoped>\n",
              "    .dataframe tbody tr th:only-of-type {\n",
              "        vertical-align: middle;\n",
              "    }\n",
              "\n",
              "    .dataframe tbody tr th {\n",
              "        vertical-align: top;\n",
              "    }\n",
              "\n",
              "    .dataframe thead th {\n",
              "        text-align: right;\n",
              "    }\n",
              "</style>\n",
              "<table border=\"1\" class=\"dataframe\">\n",
              "  <thead>\n",
              "    <tr style=\"text-align: right;\">\n",
              "      <th></th>\n",
              "      <th>Original database</th>\n",
              "      <th>Augmented database</th>\n",
              "    </tr>\n",
              "  </thead>\n",
              "  <tbody>\n",
              "    <tr>\n",
              "      <th>Recall@Overall</th>\n",
              "      <td>0.4839</td>\n",
              "      <td>0.5212</td>\n",
              "    </tr>\n",
              "    <tr>\n",
              "      <th>Recall@Hard</th>\n",
              "      <td>0.2935</td>\n",
              "      <td>0.3183</td>\n",
              "    </tr>\n",
              "    <tr>\n",
              "      <th>MRR@Overall</th>\n",
              "      <td>0.9714</td>\n",
              "      <td>0.9714</td>\n",
              "    </tr>\n",
              "    <tr>\n",
              "      <th>MRR@Hard</th>\n",
              "      <td>0.1963</td>\n",
              "      <td>0.1963</td>\n",
              "    </tr>\n",
              "  </tbody>\n",
              "</table>\n",
              "</div>"
            ],
            "text/plain": [
              "                Original database  Augmented database\n",
              "Recall@Overall             0.4839              0.5212\n",
              "Recall@Hard                0.2935              0.3183\n",
              "MRR@Overall                0.9714              0.9714\n",
              "MRR@Hard                   0.1963              0.1963"
            ]
          },
          "execution_count": 62,
          "metadata": {},
          "output_type": "execute_result"
        }
      ],
      "source": [
        "df = pd.DataFrame(\n",
        "    [[src_rc, ext_rc], [src_rc_hard, ext_rc_hard], [mrr, ext_mrr], [hard_mrr, hard_ext_mrr]],\n",
        "    columns=[\"Original database\", \"Augmented database\"],\n",
        "    index=[\"Recall@Overall\", \"Recall@Hard\", \"MRR@Overall\", \"MRR@Hard\"],\n",
        ")\n",
        "\n",
        "df.apply(lambda x: round(x, 4))"
      ]
    },
    {
      "cell_type": "code",
      "execution_count": 63,
      "metadata": {
        "colab": {
          "base_uri": "https://localhost:8080/"
        },
        "id": "WOK1Rpb4MsUW",
        "outputId": "df069d53-ca43-4145-bb57-9a31a6aa61e5"
      },
      "outputs": [
        {
          "name": "stdout",
          "output_type": "stream",
          "text": [
            "Avg inference time: 0.09s\n"
          ]
        }
      ],
      "source": [
        "print(f'Avg inference time: {scoring.mean_inference_time:.2f}s')"
      ]
    }
  ],
  "metadata": {
    "accelerator": "GPU",
    "colab": {
      "collapsed_sections": [
        "Tg8WrtTE-v6i",
        "Uzl2O7Ozn85G",
        "_30ZuhwQBzps",
        "m4t2aRbE-30Z",
        "8AFC8-w1_HMO",
        "Idbnd0QPOQRO",
        "7M5jt2UbIaom",
        "542DwLcSfoAI",
        "rt5qfoEsfrfH",
        "Yp2f7fbPDfKJ",
        "k0KXxMkiI9nZ",
        "pS0wzhOVJ8YF",
        "RHXsEZ1kL50E"
      ],
      "gpuType": "T4",
      "provenance": [],
      "toc_visible": true
    },
    "kernelspec": {
      "display_name": "Python 3",
      "name": "python3"
    },
    "language_info": {
      "codemirror_mode": {
        "name": "ipython",
        "version": 3
      },
      "file_extension": ".py",
      "mimetype": "text/x-python",
      "name": "python",
      "nbconvert_exporter": "python",
      "pygments_lexer": "ipython3",
      "version": "3.11.6"
    }
  },
  "nbformat": 4,
  "nbformat_minor": 0
}
